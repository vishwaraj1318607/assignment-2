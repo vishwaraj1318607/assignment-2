{
  "nbformat": 4,
  "nbformat_minor": 0,
  "metadata": {
    "colab": {
      "provenance": []
    },
    "kernelspec": {
      "name": "python3",
      "display_name": "Python 3"
    },
    "language_info": {
      "name": "python"
    }
  },
  "cells": [
    {
      "cell_type": "code",
      "execution_count": 2,
      "metadata": {
        "colab": {
          "base_uri": "https://localhost:8080/"
        },
        "id": "Z3RtWD_1IKKQ",
        "outputId": "51e1497f-fb94-4069-c541-ac825798f084"
      },
      "outputs": [
        {
          "output_type": "stream",
          "name": "stdout",
          "text": [
            "\"Document\" Document 1, Document 1, Document 1\n",
            "\"1:\" Document 1\n",
            "\"Lorem\" Document 1\n",
            "\"ipsum\" Document 1\n",
            "\"dolor\" Document 1\n",
            "\"sit\" Document 1, Document 1\n",
            "\"amet,\" Document 1\n",
            "\"consectetur\" Document 1\n",
            "\"adipiscing\" Document 1\n",
            "\"elit.\" Document 1\n",
            "\"2:\" Document 1\n",
            "\"Donec\" Document 1\n",
            "\"condimentum\" Document 1\n",
            "\"elit\" Document 1, Document 1\n",
            "\"vel\" Document 1\n",
            "\"mauris\" Document 1\n",
            "\"varius,\" Document 1, Document 1\n",
            "\"id\" Document 1\n",
            "\"laoreet\" Document 1\n",
            "\"tortor\" Document 1\n",
            "\"placerat.\" Document 1\n",
            "\"3:\" Document 1\n",
            "\"Nulla\" Document 1\n",
            "\"scelerisque\" Document 1\n",
            "\"felis\" Document 1\n",
            "\"ac\" Document 1\n",
            "\"risus\" Document 1\n",
            "\"amet\" Document 1\n",
            "\"luctus\" Document 1\n",
            "\"mattis\" Document 1\n"
          ]
        }
      ],
      "source": [
        "# Function to read the content of a file\n",
        "def read_file(file_path):\n",
        "    with open(file_path, 'r') as file:\n",
        "        return file.read()\n",
        "\n",
        "# Mapper function\n",
        "def mapper(document_id, text):\n",
        "    words = text.split()\n",
        "    for word in words:\n",
        "        yield word, document_id\n",
        "\n",
        "# Reducer function\n",
        "def reducer(word, document_ids):\n",
        "    yield word, list(document_ids)\n",
        "\n",
        "# Example Input\n",
        "file_path = r\"/content/sample_data/3.txt\"\n",
        "document_content = read_file(file_path)\n",
        "document_data = [(\"Document 1\", document_content)]\n",
        "\n",
        "# Execute the MapReduce job\n",
        "inverted_index = {}\n",
        "for document_id, text in document_data:\n",
        "    for word, doc_id in mapper(document_id, text):\n",
        "        if word in inverted_index:\n",
        "            inverted_index[word].append(doc_id)\n",
        "        else:\n",
        "            inverted_index[word] = [doc_id]\n",
        "\n",
        "# Output the inverted index\n",
        "for word, document_ids in inverted_index.items():\n",
        "    print(f'\"{word}\"', ', '.join(map(str, document_ids)))\n"
      ]
    }
  ]
}