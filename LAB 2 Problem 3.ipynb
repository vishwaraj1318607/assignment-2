{
  "nbformat": 4,
  "nbformat_minor": 0,
  "metadata": {
    "colab": {
      "provenance": []
    },
    "kernelspec": {
      "name": "python3",
      "display_name": "Python 3"
    },
    "language_info": {
      "name": "python"
    }
  },
  "cells": [
    {
      "cell_type": "code",
      "execution_count": 2,
      "metadata": {
        "colab": {
          "base_uri": "https://localhost:8080/"
        },
        "id": "o0l7yOp2FuLD",
        "outputId": "62975c36-e2ed-4e3a-b154-3b09a9026cb1"
      },
      "outputs": [
        {
          "output_type": "stream",
          "name": "stdout",
          "text": [
            "a,man: 1\n",
            "man,a: 1\n",
            "a,plan: 2\n",
            "plan,a: 1\n",
            "a,canal: 3\n",
            "canal,panama: 1\n",
            "panama,there: 1\n",
            "there,was: 1\n",
            "was,a: 1\n",
            "plan,to: 1\n",
            "to,build: 1\n",
            "build,a: 1\n",
            "canal,in: 1\n",
            "in,panama: 2\n",
            "panama,in: 1\n",
            "panama,a: 1\n",
            "was,built: 1\n"
          ]
        }
      ],
      "source": [
        "def map_function(line):\n",
        "    words = line.strip().split()\n",
        "    bigrams = [(f\"{words[i]},{words[i + 1]}\", 1) for i in range(len(words) - 1)]\n",
        "    return bigrams\n",
        "\n",
        "def reduce_function(bigrams_list):\n",
        "    bigram_counts = {}\n",
        "    for bigram, count in bigrams_list:\n",
        "        bigram_counts[bigram] = bigram_counts.get(bigram, 0) + count\n",
        "    return list(bigram_counts.items())\n",
        "\n",
        "def main(input_text):\n",
        "    lines = input_text.strip().split('\\n')\n",
        "    mapped_results = [item for line in lines for item in map_function(line)]\n",
        "    reduced_results = reduce_function(mapped_results)\n",
        "    return reduced_results\n",
        "\n",
        "file_path = r\"/content/sample_data/2.txt\"\n",
        "\n",
        "with open(file_path, 'r', encoding='utf-8') as file:\n",
        "    input_text = file.read()\n",
        "\n",
        "results = main(input_text)\n",
        "\n",
        "for bigram, count in results:\n",
        "    print(f\"{bigram}: {count}\")\n"
      ]
    }
  ]
}